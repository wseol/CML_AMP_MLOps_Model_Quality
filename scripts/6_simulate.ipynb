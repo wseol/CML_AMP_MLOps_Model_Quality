{
 "cells": [
  {
   "cell_type": "markdown",
   "id": "c395cf37-8aab-4156-b1f0-6b588ab8eb3d",
   "metadata": {},
   "source": [
    "# 5. Simulating data drift"
   ]
  },
  {
   "cell_type": "code",
   "execution_count": 1,
   "id": "eed9c362-0f44-4b79-ac40-eca7e8ffc220",
   "metadata": {},
   "outputs": [],
   "source": [
    "import os\n",
    "import cdsw\n",
    "import logging\n",
    "import numpy as np\n",
    "import pandas as pd\n",
    "import pickle\n",
    "import sys\n",
    "sys.path.append('/home/cdsw')\n",
    "\n",
    "from typing import Dict\n",
    "from tqdm import tqdm\n",
    "from pandas.tseries.offsets import DateOffset\n",
    "from evidently.dashboard import Dashboard\n",
    "from evidently.tabs import (\n",
    "    DataDriftTab,\n",
    "    NumTargetDriftTab,\n",
    "    RegressionPerformanceTab,\n",
    ")\n",
    "\n",
    "from src.utils import scale_prices\n",
    "from src.api import ApiUtility\n",
    "from src.inference import ThreadedModelRequest\n",
    "from src.simulation import Simulation"
   ]
  },
  {
   "cell_type": "code",
   "execution_count": 2,
   "id": "fd030da0-07f8-4cee-be32-6aaaaf5d1170",
   "metadata": {},
   "outputs": [],
   "source": [
    "file = open(\"/home/cdsw/features.pkl\",'rb')\n",
    "features = pickle.load(file)\n",
    "file.close()"
   ]
  },
  {
   "cell_type": "code",
   "execution_count": 3,
   "id": "fd7d18e3-6cb1-438c-ada6-8a2c2621a760",
   "metadata": {},
   "outputs": [],
   "source": [
    "train_path = \"/home/cdsw/data/working/train_df.pkl\"\n",
    "prod_path = \"/home/cdsw/data/working/prod_df.pkl\""
   ]
  },
  {
   "cell_type": "code",
   "execution_count": 4,
   "id": "15410866-d572-45a0-bea7-945e69c86a36",
   "metadata": {},
   "outputs": [],
   "source": [
    "train_df = pd.read_pickle(train_path)\n",
    "prod_df = pd.read_pickle(prod_path)"
   ]
  },
  {
   "cell_type": "code",
   "execution_count": 5,
   "id": "39ba989e-7343-4998-bf2b-91fd97ddaf71",
   "metadata": {},
   "outputs": [],
   "source": [
    "train_df = train_df[features + ['id'] + ['date_forecast'] + ['date_departure'] + ['TARGET']]\n",
    "prod_df = prod_df[features + ['id'] + ['date_forecast'] + ['date_departure'] + ['TARGET']]"
   ]
  },
  {
   "cell_type": "code",
   "execution_count": 6,
   "id": "cb26212d-cc6b-4357-a597-41bcb44cca62",
   "metadata": {},
   "outputs": [],
   "source": [
    "sim = Simulation(\n",
    "    model_name=\"cancelld_flight_prediction\", dev_mode='TRUE'\n",
    ")"
   ]
  },
  {
   "cell_type": "markdown",
   "id": "6d069b2f-aa88-40e6-aabe-2451e2acc249",
   "metadata": {},
   "source": [
    "## run simulation (application)\n",
    "calling the model with previous & current data, and then compare the results for detecting data drift"
   ]
  },
  {
   "cell_type": "code",
   "execution_count": 7,
   "id": "03951774-f1b6-4b19-bb5c-f9c757535319",
   "metadata": {},
   "outputs": [
    {
     "name": "stderr",
     "output_type": "stream",
     "text": [
      " 86%|██████████████████████████████████████▌      | 6/7 [05:43<00:57, 57.19s/it]\n"
     ]
    }
   ],
   "source": [
    "sim.run_simulation(train_df, prod_df)"
   ]
  }
 ],
 "metadata": {
  "kernelspec": {
   "display_name": "Python 3 (ipykernel)",
   "language": "python",
   "name": "python3"
  },
  "language_info": {
   "codemirror_mode": {
    "name": "ipython",
    "version": 3
   },
   "file_extension": ".py",
   "mimetype": "text/x-python",
   "name": "python",
   "nbconvert_exporter": "python",
   "pygments_lexer": "ipython3",
   "version": "3.9.11"
  }
 },
 "nbformat": 4,
 "nbformat_minor": 5
}
