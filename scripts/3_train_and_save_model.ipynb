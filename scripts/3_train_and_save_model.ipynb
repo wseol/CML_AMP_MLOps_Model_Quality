{
 "cells": [
  {
   "cell_type": "markdown",
   "id": "a3646f69-6168-481b-8e3d-13dbb5386b15",
   "metadata": {
    "tags": []
   },
   "source": [
    "# 3. Training model"
   ]
  },
  {
   "cell_type": "code",
   "execution_count": 1,
   "id": "169f364f-4295-4cf1-bb23-f8cb181eab1e",
   "metadata": {},
   "outputs": [],
   "source": [
    "import os\n",
    "import scipy\n",
    "import pickle\n",
    "import numpy as np\n",
    "import pandas as pd\n",
    "import mlflow\n",
    "import argparse\n",
    "import datetime\n",
    "\n",
    "from joblib import dump, load\n",
    "\n",
    "from sklearn.pipeline import Pipeline\n",
    "from sklearn.linear_model import Ridge\n",
    "from sklearn.impute import SimpleImputer\n",
    "from sklearn.preprocessing import OneHotEncoder, MinMaxScaler, StandardScaler\n",
    "from sklearn.compose import ColumnTransformer, TransformedTargetRegressor\n",
    "from sklearn.model_selection import GridSearchCV,RandomizedSearchCV,train_test_split\n",
    "from sklearn.metrics import classification_report"
   ]
  },
  {
   "cell_type": "code",
   "execution_count": 2,
   "id": "252b4c8d-07df-458b-93ec-f54fb0e8d610",
   "metadata": {},
   "outputs": [
    {
     "name": "stdout",
     "output_type": "stream",
     "text": [
      "Time now at greenwich meridian is : 2023-03-28 08:55:02.418878\n"
     ]
    }
   ],
   "source": [
    "current_time = datetime.datetime.now()\n",
    "print (\"Time now at greenwich meridian is : \", end = \"\")\n",
    "print (current_time)"
   ]
  },
  {
   "cell_type": "markdown",
   "id": "6ad1430e-54ac-4e87-a36c-c55432783c9a",
   "metadata": {},
   "source": [
    "## preparing data"
   ]
  },
  {
   "cell_type": "code",
   "execution_count": 3,
   "id": "9ed45227-a13d-4892-bb60-98f21ca54b28",
   "metadata": {},
   "outputs": [],
   "source": [
    "# read all features\n",
    "file = open(\"/home/cdsw/features.pkl\",'rb')\n",
    "features = pickle.load(file)\n",
    "file.close()"
   ]
  },
  {
   "cell_type": "code",
   "execution_count": 4,
   "id": "88f232bd-2774-4707-b5a5-17fcac0f55dd",
   "metadata": {},
   "outputs": [],
   "source": [
    "# read training data\n",
    "train_path = \"/home/cdsw/data/working/train_df.pkl\"\n",
    "cancelled_flights = pd.read_pickle(train_path)"
   ]
  },
  {
   "cell_type": "code",
   "execution_count": 5,
   "id": "a43f8527-9857-4ee8-a3e5-6ef03ae9759b",
   "metadata": {},
   "outputs": [],
   "source": [
    "X = cancelled_flights[features]"
   ]
  },
  {
   "cell_type": "code",
   "execution_count": 6,
   "id": "353d3e3e-268c-4295-b1da-b911bdeec096",
   "metadata": {},
   "outputs": [],
   "source": [
    "y = cancelled_flights[[\"TARGET\"]]"
   ]
  },
  {
   "cell_type": "code",
   "execution_count": 7,
   "id": "b146d4c6-41f0-4287-ace1-aaedeae98add",
   "metadata": {},
   "outputs": [],
   "source": [
    "# there is no categorical column at this point\n",
    "categorical_cols = []\n",
    "# categorical_cols = [i for i in X.columns if X.dtypes[i]=='object']\n",
    "\n",
    "ct = ColumnTransformer(\n",
    "    [(\"le\", OneHotEncoder(), categorical_cols)], remainder=\"passthrough\"\n",
    ")\n",
    "X_trans = ct.fit_transform(X)"
   ]
  },
  {
   "cell_type": "code",
   "execution_count": 8,
   "id": "4b98e4a0-84f9-4235-9bc7-e738a3423a89",
   "metadata": {},
   "outputs": [],
   "source": [
    "X_train, X_test, y_train, y_test = train_test_split(X_trans, y, random_state=42)"
   ]
  },
  {
   "cell_type": "markdown",
   "id": "403427d5-d45e-4965-9549-035cc10370bb",
   "metadata": {},
   "source": [
    "## Defining model"
   ]
  },
  {
   "cell_type": "code",
   "execution_count": 9,
   "id": "d72f87f5-95de-4d84-93cb-e0585b043394",
   "metadata": {},
   "outputs": [
    {
     "name": "stdout",
     "output_type": "stream",
     "text": [
      "Requirement already satisfied: xgboost in /home/cdsw/.local/lib/python3.9/site-packages (1.7.4)\n",
      "Requirement already satisfied: numpy in /home/cdsw/.local/lib/python3.9/site-packages (from xgboost) (1.19.5)\n",
      "Requirement already satisfied: scipy in /home/cdsw/.local/lib/python3.9/site-packages (from xgboost) (1.5.4)\n"
     ]
    }
   ],
   "source": [
    "!pip install xgboost"
   ]
  },
  {
   "cell_type": "code",
   "execution_count": 10,
   "id": "b4ca02d7-f395-4c3a-ab6f-835eb31a6650",
   "metadata": {},
   "outputs": [
    {
     "name": "stdout",
     "output_type": "stream",
     "text": [
      "Requirement already satisfied: hyperopt in /home/cdsw/.local/lib/python3.9/site-packages (0.2.7)\n",
      "Requirement already satisfied: six in /usr/local/lib/python3.9/site-packages (from hyperopt) (1.15.0)\n",
      "Requirement already satisfied: networkx>=2.2 in /home/cdsw/.local/lib/python3.9/site-packages (from hyperopt) (3.0)\n",
      "Requirement already satisfied: future in /home/cdsw/.local/lib/python3.9/site-packages (from hyperopt) (0.18.3)\n",
      "Requirement already satisfied: py4j in /usr/local/lib/python3.9/site-packages (from hyperopt) (0.10.9.1)\n",
      "Requirement already satisfied: tqdm in /home/cdsw/.local/lib/python3.9/site-packages (from hyperopt) (4.63.1)\n",
      "Requirement already satisfied: numpy in /home/cdsw/.local/lib/python3.9/site-packages (from hyperopt) (1.19.5)\n",
      "Requirement already satisfied: cloudpickle in /runtime-addons/cmladdon-2.0.36-b118/opt/cmladdons/python/site-packages (from hyperopt) (2.2.1)\n",
      "Requirement already satisfied: scipy in /home/cdsw/.local/lib/python3.9/site-packages (from hyperopt) (1.5.4)\n"
     ]
    }
   ],
   "source": [
    "!pip install hyperopt"
   ]
  },
  {
   "cell_type": "code",
   "execution_count": 11,
   "id": "5a0ff5f7-8a67-4897-ad7e-7bf21ed8568f",
   "metadata": {},
   "outputs": [],
   "source": [
    "import time\n",
    "import warnings\n",
    "import numpy as np\n",
    "import xgboost as xgb\n",
    "\n",
    "#hyperparameter tuning\n",
    "from hyperopt import fmin, tpe, hp, SparkTrials, STATUS_OK\n",
    "from hyperopt.pyll import scope\n",
    "from sklearn.metrics import roc_auc_score"
   ]
  },
  {
   "cell_type": "code",
   "execution_count": 12,
   "id": "98237f23-b982-437d-ae70-eeca4c755e8f",
   "metadata": {},
   "outputs": [
    {
     "data": {
      "text/plain": [
       "{'objective': ['binary:logistic'],\n",
       " 'use_label_encoder': [None],\n",
       " 'base_score': [None],\n",
       " 'booster': [None],\n",
       " 'callbacks': [None],\n",
       " 'colsample_bylevel': [None],\n",
       " 'colsample_bynode': [None],\n",
       " 'colsample_bytree': [None],\n",
       " 'early_stopping_rounds': [None],\n",
       " 'enable_categorical': [False],\n",
       " 'eval_metric': [None],\n",
       " 'feature_types': [None],\n",
       " 'gamma': [None],\n",
       " 'gpu_id': [None],\n",
       " 'grow_policy': [None],\n",
       " 'importance_type': [None],\n",
       " 'interaction_constraints': [None],\n",
       " 'learning_rate': [None],\n",
       " 'max_bin': [None],\n",
       " 'max_cat_threshold': [None],\n",
       " 'max_cat_to_onehot': [None],\n",
       " 'max_delta_step': [None],\n",
       " 'max_depth': [None],\n",
       " 'max_leaves': [None],\n",
       " 'min_child_weight': [None],\n",
       " 'missing': [nan],\n",
       " 'monotone_constraints': [None],\n",
       " 'n_estimators': [100],\n",
       " 'n_jobs': [None],\n",
       " 'num_parallel_tree': [None],\n",
       " 'predictor': [None],\n",
       " 'random_state': [None],\n",
       " 'reg_alpha': [None],\n",
       " 'reg_lambda': [None],\n",
       " 'sampling_method': [None],\n",
       " 'scale_pos_weight': [None],\n",
       " 'subsample': [None],\n",
       " 'tree_method': [None],\n",
       " 'validate_parameters': [None],\n",
       " 'verbosity': [None]}"
      ]
     },
     "execution_count": 12,
     "metadata": {},
     "output_type": "execute_result"
    }
   ],
   "source": [
    "# using XGBoost\n",
    "default_params = {}\n",
    "xgbclf = xgb.XGBClassifier()\n",
    "gparams = xgbclf.get_params()\n",
    "\n",
    "#default parameters have to be wrapped in lists - even single values - so GridSearchCV can take them as inputs\n",
    "for key in gparams.keys():\n",
    "    gp = gparams[key]\n",
    "    default_params[key] = [gp]\n",
    "\n",
    "# Create XGBoost DMatrix objects for efficient data handling\n",
    "\n",
    "train = xgb.DMatrix(data=X_train, label=y_train)\n",
    "test = xgb.DMatrix(data=X_test, label=y_test)\n",
    "    \n",
    "#list of hyperparameters available to Tune\n",
    "default_params"
   ]
  },
  {
   "cell_type": "code",
   "execution_count": 13,
   "id": "a170e938-b995-4ad3-9a5b-f3578925a94d",
   "metadata": {},
   "outputs": [],
   "source": [
    "search_space = {\n",
    "    'learning_rate': hp.loguniform('learning_rate', -7, 0),\n",
    "    'max_depth': scope.int(hp.uniform('max_depth', 1, 100)),\n",
    "    'min_child_weight': hp.loguniform('min_child_weight', -2, 3),\n",
    "    'subsample': hp.uniform('subsample', 0.5, 1),\n",
    "    'colsample_bytree': hp.uniform('colsample_bytree', 0.5, 1),\n",
    "    'gamma': hp.loguniform('gamma', -10, 10),\n",
    "    'alpha': hp.loguniform('alpha', -10, 10),\n",
    "    'lambda': hp.loguniform('lambda', -10, 10),\n",
    "    'objective': 'binary:logistic',\n",
    "    'eval_metric': 'auc',\n",
    "    'seed': 123,\n",
    "}"
   ]
  },
  {
   "cell_type": "code",
   "execution_count": 14,
   "id": "7e3af102-fafa-4b08-b290-ee19def580ea",
   "metadata": {},
   "outputs": [],
   "source": [
    "# With MLflow autologging, hyperparameters and the trained model are automatically logged to MLflow.\n",
    "def train_model(params):\n",
    "    mlflow.xgboost.autolog(silent=True)\n",
    "\n",
    "    # However, we can log additional information by using an MLFlow tracking context manager\n",
    "    with mlflow.start_run(nested=True):\n",
    "\n",
    "        # Train model and record run time\n",
    "        start_time = time.time()\n",
    "        booster = xgb.train(params=params, dtrain=train, num_boost_round=10, evals=[(test, \"test\")], early_stopping_rounds=3, verbose_eval=False)\n",
    "        run_time = time.time() - start_time\n",
    "        mlflow.log_metric('runtime', run_time)\n",
    "\n",
    "        # Record AUC as primary loss for Hyperopt to minimize\n",
    "        predictions_test = booster.predict(test)\n",
    "        auc_score = roc_auc_score(y_test, predictions_test)\n",
    "        mlflow.log_metric('test-auc', auc_score)\n",
    "\n",
    "        # Set the loss to -1*auc_score so fmin maximizes the auc_score\n",
    "        return {'status': STATUS_OK, 'loss': -auc_score, 'booster': booster.attributes()}\n"
   ]
  },
  {
   "cell_type": "markdown",
   "id": "bf3f3e42-76d8-49ed-a087-a3362adb1e3f",
   "metadata": {},
   "source": [
    "## Training model with experiments"
   ]
  },
  {
   "cell_type": "code",
   "execution_count": 15,
   "id": "35272515-c92a-46c8-b2b7-b00ee96c1371",
   "metadata": {},
   "outputs": [
    {
     "name": "stderr",
     "output_type": "stream",
     "text": [
      "2023/03/28 08:55:11 INFO mlflow.tracking.fluent: Experiment with name 'HPsearch 2023-03-28 08:55:02.418878' does not exist. Creating a new experiment.\n"
     ]
    },
    {
     "name": "stdout",
     "output_type": "stream",
     "text": [
      "100%|██████████| 15/15 [10:41<00:00, 42.74s/trial, best loss: -0.770042647637081]\n"
     ]
    }
   ],
   "source": [
    "#spark_trials = SparkTrials(parallelism=4)\n",
    "\n",
    "#http://hyperopt.github.io/hyperopt/scaleout/spark/ Working with SPARK trials\n",
    "\n",
    "mlflow.set_experiment('HPsearch ' + str(current_time))\n",
    "with mlflow.start_run(run_name='initial_search'):\n",
    "    best_params = fmin(\n",
    "      fn=train_model,\n",
    "      space=search_space,\n",
    "      algo=tpe.suggest,\n",
    "      max_evals=15,\n",
    "      rstate=np.random.default_rng(123),\n",
    "      #trials=spark_trials\n",
    "    )"
   ]
  },
  {
   "cell_type": "code",
   "execution_count": 16,
   "id": "4eae5dd5-81dc-458a-be98-07c752a9298a",
   "metadata": {},
   "outputs": [
    {
     "name": "stdout",
     "output_type": "stream",
     "text": [
      "{'alpha': 0.705521042033555, 'colsample_bytree': 0.7551097482727199, 'gamma': 0.02350855623260589, 'lambda': 0.00032439053080142655, 'learning_rate': 0.20639864043473916, 'max_depth': 46.75502689424332, 'min_child_weight': 0.1606531805738852, 'subsample': 0.7912967176727957}\n"
     ]
    }
   ],
   "source": [
    "print(best_params)"
   ]
  },
  {
   "cell_type": "code",
   "execution_count": 17,
   "id": "08cbb565-1f59-4f81-a6a6-54a2e5cb0ea1",
   "metadata": {},
   "outputs": [],
   "source": [
    "best_params['max_depth']=int(best_params['max_depth'])"
   ]
  },
  {
   "cell_type": "markdown",
   "id": "293e1ea6-27bd-4706-84ce-fe2fd79f9b3e",
   "metadata": {},
   "source": [
    "## Training the best model"
   ]
  },
  {
   "cell_type": "code",
   "execution_count": 18,
   "id": "8402012a-434f-4037-81a8-454bf433d7c9",
   "metadata": {},
   "outputs": [
    {
     "data": {
      "text/plain": [
       "Pipeline(steps=[('scaler', StandardScaler(with_mean=False)),\n",
       "                ('xgbclf_base',\n",
       "                 XGBClassifier(alpha=0.705521042033555, base_score=None,\n",
       "                               booster=None, callbacks=None,\n",
       "                               colsample_bylevel=None, colsample_bynode=None,\n",
       "                               colsample_bytree=0.7551097482727199,\n",
       "                               early_stopping_rounds=None,\n",
       "                               enable_categorical=False, eval_metric=None,\n",
       "                               feature_types=None, gamma=0.02350855623260589...\n",
       "                               importance_type=None,\n",
       "                               interaction_constraints=None,\n",
       "                               lambda=0.00032439053080142655,\n",
       "                               learning_rate=0.20639864043473916, max_bin=None,\n",
       "                               max_cat_threshold=None, max_cat_to_onehot=None,\n",
       "                               max_delta_step=None, max_depth=46,\n",
       "                               max_leaves=None,\n",
       "                               min_child_weight=0.1606531805738852, missing=nan,\n",
       "                               monotone_constraints=None, n_estimators=10,\n",
       "                               n_jobs=None, num_parallel_tree=None, ...))])"
      ]
     },
     "execution_count": 18,
     "metadata": {},
     "output_type": "execute_result"
    }
   ],
   "source": [
    "xgbclf_base = xgb.XGBClassifier(**best_params, n_estimators=10)\n",
    "pipe = Pipeline([(\"scaler\", StandardScaler(with_mean=False)), (\"xgbclf_base\", xgbclf_base)])\n",
    "pipe.fit(X_train, y_train)"
   ]
  },
  {
   "cell_type": "code",
   "execution_count": 19,
   "id": "e7c37ca6-1278-4684-87d0-e6d85778b014",
   "metadata": {},
   "outputs": [
    {
     "name": "stdout",
     "output_type": "stream",
     "text": [
      "               precision    recall  f1-score   support\n",
      "\n",
      "Not-cancelled       0.72      0.76      0.74    421572\n",
      "    Cancelled       0.67      0.63      0.65    326725\n",
      "\n",
      "     accuracy                           0.70    748297\n",
      "    macro avg       0.70      0.69      0.69    748297\n",
      " weighted avg       0.70      0.70      0.70    748297\n",
      "\n"
     ]
    }
   ],
   "source": [
    "# create classification report\n",
    "y_pred = pipe.predict(X_test)\n",
    "targets = [\"Not-cancelled\", \"Cancelled\"]\n",
    "cls_report = classification_report(y_test, y_pred, target_names=targets)\n",
    "print(cls_report)"
   ]
  },
  {
   "cell_type": "code",
   "execution_count": 20,
   "id": "0015956c-b29c-41a5-8864-5754cbbd48db",
   "metadata": {},
   "outputs": [
    {
     "name": "stdout",
     "output_type": "stream",
     "text": [
      "ROC AUC Score 0.693050097244799\n"
     ]
    }
   ],
   "source": [
    "print ('ROC AUC Score',roc_auc_score(y_test,y_pred))"
   ]
  },
  {
   "cell_type": "markdown",
   "id": "f650c10c-fac7-48b3-8286-4618e0840db1",
   "metadata": {},
   "source": [
    "## Saving the model pipeline"
   ]
  },
  {
   "cell_type": "code",
   "execution_count": 21,
   "id": "ae5010be-bd04-4beb-bc3a-ddde98774ff9",
   "metadata": {},
   "outputs": [
    {
     "data": {
      "text/plain": [
       "['/home/cdsw/ct.joblib']"
      ]
     },
     "execution_count": 21,
     "metadata": {},
     "output_type": "execute_result"
    }
   ],
   "source": [
    "dump(ct, \"/home/cdsw/ct.joblib\")"
   ]
  },
  {
   "cell_type": "code",
   "execution_count": 22,
   "id": "818873b5-3e1e-4976-a49b-ea770f7d4962",
   "metadata": {},
   "outputs": [
    {
     "data": {
      "text/plain": [
       "['/home/cdsw/pipe.joblib']"
      ]
     },
     "execution_count": 22,
     "metadata": {},
     "output_type": "execute_result"
    }
   ],
   "source": [
    "dump(pipe, \"/home/cdsw/pipe.joblib\")"
   ]
  },
  {
   "cell_type": "code",
   "execution_count": null,
   "id": "ebe7ec01-bfdc-4506-889f-e67d70346396",
   "metadata": {},
   "outputs": [],
   "source": []
  }
 ],
 "metadata": {
  "kernelspec": {
   "display_name": "Python 3 (ipykernel)",
   "language": "python",
   "name": "python3"
  },
  "language_info": {
   "codemirror_mode": {
    "name": "ipython",
    "version": 3
   },
   "file_extension": ".py",
   "mimetype": "text/x-python",
   "name": "python",
   "nbconvert_exporter": "python",
   "pygments_lexer": "ipython3",
   "version": "3.9.11"
  }
 },
 "nbformat": 4,
 "nbformat_minor": 5
}
