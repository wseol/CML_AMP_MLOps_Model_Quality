{
 "cells": [
  {
   "cell_type": "markdown",
   "id": "e0d1ed76-7068-4f61-bc86-72f4de0a61fd",
   "metadata": {},
   "source": [
    "# 1. Loading CSV to Hive using Spark"
   ]
  },
  {
   "cell_type": "code",
   "execution_count": 1,
   "id": "8711ba46-b570-4035-afb0-aa6509974ca6",
   "metadata": {
    "tags": []
   },
   "outputs": [
    {
     "name": "stderr",
     "output_type": "stream",
     "text": [
      "Setting spark.hadoop.yarn.resourcemanager.principal to wseol\n"
     ]
    }
   ],
   "source": [
    "# import os\n",
    "# from cmlbootstrap import CMLBootstrap\n",
    "from pyspark.sql import SparkSession\n",
    "# Change to the appropriate Datalake directory location\n",
    "\n",
    "# DATALAKE_DIRECTORY = os.environ[\"STORAGE\"]\n",
    "DATALAKE_DIRECTORY = \"s3a://go01-demo\"\n",
    "\n",
    "spark = (\n",
    "  SparkSession.builder.appName(\"MyApp\")\n",
    "  .config(\"spark.jars\", \"/opt/spark/optional-lib/iceberg-spark-runtime.jar\")\n",
    "  .config(\"spark.sql.hive.hwc.execution.mode\", \"spark\")\n",
    "  .config( \"spark.sql.extensions\", \"com.qubole.spark.hiveacid.HiveAcidAutoConvertExtension, org.apache.iceberg.spark.extensions.IcebergSparkSessionExtensions\")\n",
    "  .config(\"spark.sql.catalog.spark_catalog.type\", \"hive\")\n",
    "  .config( \"spark.sql.catalog.spark_catalog\", \"org.apache.iceberg.spark.SparkSessionCatalog\")\n",
    "  .config(\"spark.yarn.access.hadoopFileSystems\", DATALAKE_DIRECTORY)\n",
    "  .getOrCreate()\n",
    "  )\n"
   ]
  },
  {
   "cell_type": "code",
   "execution_count": 2,
   "id": "5a43dc38-d931-4694-92b5-8b4d14787a50",
   "metadata": {},
   "outputs": [
    {
     "name": "stderr",
     "output_type": "stream",
     "text": [
      "                                                                                \r"
     ]
    }
   ],
   "source": [
    "datafile=spark.read.csv(\"/home/cdsw/data/raw/preprocessed_flight_data.csv\",header=True, inferSchema=True)"
   ]
  },
  {
   "cell_type": "code",
   "execution_count": 3,
   "id": "51e861d6-9f82-4db3-8f9c-2ab846ecc7e6",
   "metadata": {},
   "outputs": [
    {
     "name": "stderr",
     "output_type": "stream",
     "text": [
      "[Stage 2:>                                                          (0 + 1) / 1]\r"
     ]
    },
    {
     "name": "stdout",
     "output_type": "stream",
     "text": [
      "+----------+-------------+---------+------+----+----------+----------+---------+--------------+--------+----+----+\n",
      "|   fl_date|uniquecarrier|flightnum|origin|dest|crsdeptime|crsarrtime|cancelled|crselapsedtime|distance|hour|week|\n",
      "+----------+-------------+---------+------+----+----------+----------+---------+--------------+--------+----+----+\n",
      "|2010-09-14|           US|     1628|   ROC| PIT|       715|       820|        1|          65.0|   224.0|   7|37.0|\n",
      "|2010-09-15|           US|     1628|   ROC| PIT|       715|       820|        1|          65.0|   224.0|   7|37.0|\n",
      "|2010-09-16|           US|     1628|   ROC| PIT|       715|       820|        1|          65.0|   224.0|   7|37.0|\n",
      "|2010-02-06|           US|     2608|   BDL| PBI|       700|      1011|        1|         191.0|  1133.0|   7| 5.0|\n",
      "|2010-08-31|           CO|     1173|   EWR| ORD|      1345|      1519|        1|         154.0|   719.0|  13|35.0|\n",
      "+----------+-------------+---------+------+----+----------+----------+---------+--------------+--------+----+----+\n",
      "only showing top 5 rows\n",
      "\n"
     ]
    },
    {
     "name": "stderr",
     "output_type": "stream",
     "text": [
      "                                                                                \r"
     ]
    }
   ],
   "source": [
    "datafile.show(5)"
   ]
  },
  {
   "cell_type": "code",
   "execution_count": 4,
   "id": "89de5810-fd82-43a2-a459-f9ef231827b1",
   "metadata": {},
   "outputs": [
    {
     "name": "stderr",
     "output_type": "stream",
     "text": [
      "Hive Session ID = 82048650-329b-496a-8573-6795b4c1b001\n"
     ]
    },
    {
     "data": {
      "text/plain": [
       "DataFrame[]"
      ]
     },
     "execution_count": 4,
     "metadata": {},
     "output_type": "execute_result"
    }
   ],
   "source": [
    "spark.sql(\"drop table if exists airlines.flights_wseol\")"
   ]
  },
  {
   "cell_type": "code",
   "execution_count": 5,
   "id": "064ed5d5-abe7-4545-a49c-73b996af7ed8",
   "metadata": {},
   "outputs": [
    {
     "name": "stderr",
     "output_type": "stream",
     "text": [
      "                                                                                \r"
     ]
    }
   ],
   "source": [
    "datafile.write.saveAsTable(\"airlines.flights_wseol\")"
   ]
  },
  {
   "cell_type": "code",
   "execution_count": 6,
   "id": "958dbbe7-9165-4fe6-b91a-a672573afad3",
   "metadata": {},
   "outputs": [
    {
     "name": "stderr",
     "output_type": "stream",
     "text": [
      "[Stage 4:===================>                                       (1 + 2) / 3]\r"
     ]
    },
    {
     "name": "stdout",
     "output_type": "stream",
     "text": [
      "+----------+-------------+---------+------+----+----------+----------+---------+--------------+--------+----+----+\n",
      "|   fl_date|uniquecarrier|flightnum|origin|dest|crsdeptime|crsarrtime|cancelled|crselapsedtime|distance|hour|week|\n",
      "+----------+-------------+---------+------+----+----------+----------+---------+--------------+--------+----+----+\n",
      "|1997-10-17|           DL|     1286|   PVD| ATL|      1725|      2003|        0|         158.0|   903.0|  17|42.0|\n",
      "|1997-10-29|           DL|     1775|   PVD| ATL|       630|       909|        0|         159.0|   903.0|   6|44.0|\n",
      "|1997-10-25|           DL|      759|   RDU| ATL|       730|       848|        0|          78.0|   356.0|   7|43.0|\n",
      "|1997-10-01|           DL|      985|   RDU| ATL|       600|       716|        0|          76.0|   356.0|   6|40.0|\n",
      "|1997-10-28|           DL|     1112|   PNS| ATL|      1020|      1222|        0|          62.0|   272.0|  10|44.0|\n",
      "+----------+-------------+---------+------+----+----------+----------+---------+--------------+--------+----+----+\n",
      "\n"
     ]
    },
    {
     "name": "stderr",
     "output_type": "stream",
     "text": [
      "                                                                                \r"
     ]
    }
   ],
   "source": [
    "spark.sql(\"select * from airlines.flights_wseol limit 5\").show()"
   ]
  },
  {
   "cell_type": "code",
   "execution_count": null,
   "id": "d81c8b92-3258-4b53-84b8-03d07412e265",
   "metadata": {},
   "outputs": [],
   "source": []
  }
 ],
 "metadata": {
  "kernelspec": {
   "display_name": "Python 3 (ipykernel)",
   "language": "python",
   "name": "python3"
  },
  "language_info": {
   "codemirror_mode": {
    "name": "ipython",
    "version": 3
   },
   "file_extension": ".py",
   "mimetype": "text/x-python",
   "name": "python",
   "nbconvert_exporter": "python",
   "pygments_lexer": "ipython3",
   "version": "3.9.11"
  }
 },
 "nbformat": 4,
 "nbformat_minor": 5
}
