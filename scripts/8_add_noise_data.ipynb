{
 "cells": [
  {
   "cell_type": "markdown",
   "id": "a5d46d84-5530-4d8f-8dc5-c5b494e61b6b",
   "metadata": {},
   "source": [
    "# 5. Adding noise to data\n",
    "### for mimicking Data Drift and Model Decay"
   ]
  },
  {
   "cell_type": "code",
   "execution_count": 1,
   "id": "5a02f7c1-eb99-4e0c-b6e6-4968edcc3963",
   "metadata": {},
   "outputs": [],
   "source": [
    "import os\n",
    "import scipy\n",
    "import pickle\n",
    "import numpy as np\n",
    "import pandas as pd\n",
    "import mlflow\n",
    "import argparse\n",
    "import datetime\n",
    "\n",
    "from joblib import dump, load"
   ]
  },
  {
   "cell_type": "code",
   "execution_count": 2,
   "id": "47fa3ec5-4aed-4e4c-b1b6-168e12c5280d",
   "metadata": {},
   "outputs": [],
   "source": [
    "# read all features\n",
    "file = open(\"/home/cdsw/features.pkl\",'rb')\n",
    "features = pickle.load(file)\n",
    "file.close()"
   ]
  },
  {
   "cell_type": "code",
   "execution_count": 3,
   "id": "e9122ee6-11b6-4708-bf88-bc20ed81b7ec",
   "metadata": {},
   "outputs": [],
   "source": [
    "# read production data\n",
    "prod_path = \"/home/cdsw/data/working/prod_df.pkl\"\n",
    "prod_df = pd.read_pickle(prod_path)"
   ]
  },
  {
   "cell_type": "code",
   "execution_count": 4,
   "id": "5bc73f62-d63a-49d7-a9de-073a93e45f9d",
   "metadata": {},
   "outputs": [],
   "source": [
    "# adding noise for simulating data drift. It adds more noise over time\n",
    "for col in prod_df.columns:\n",
    "    if str(prod_df[col].dtypes) == 'float64' and col != 'TARGET':        \n",
    "        noise = np.random.normal(0, .1, prod_df[col].shape[0]) * prod_df[col].iloc[0] * (1/1000) * (prod_df.date_departure - pd.to_datetime('2014-10-31', format='%Y-%m-%d')).dt.days * (prod_df.date_departure - pd.to_datetime('2014-10-31', format='%Y-%m-%d')).dt.days\n",
    "        prod_df[col] = prod_df[col] + round(noise,3)"
   ]
  },
  {
   "cell_type": "code",
   "execution_count": 5,
   "id": "e500e851-4bcb-4c77-848a-1e11795efc42",
   "metadata": {},
   "outputs": [],
   "source": [
    "# adding noise for simulating data drift. It adds more noise over time\n",
    "for col in prod_df.columns:\n",
    "    if str(prod_df[col].dtypes) == 'int64' and col != 'TARGET':        \n",
    "        noise = np.random.normal(0, .1, prod_df[col].shape[0]) * prod_df[col].iloc[0] * (1/1000) * (prod_df.date_departure - pd.to_datetime('2014-10-31', format='%Y-%m-%d')).dt.days * (prod_df.date_departure - pd.to_datetime('2014-10-31', format='%Y-%m-%d')).dt.days\n",
    "        prod_df[col] = prod_df[col] + round(noise, 0).astype(int)"
   ]
  },
  {
   "cell_type": "code",
   "execution_count": null,
   "id": "8efde47c-76c1-47fd-8a88-ac0194e93900",
   "metadata": {},
   "outputs": [],
   "source": [
    "# adding noise for simulating target drift. It adds more noise over time\n",
    "def categorise(row): \n",
    "    noise = np.random.uniform(0, 1) * (1/1000) * (row.date_departure - pd.to_datetime('2014-10-31', format='%Y-%m-%d')).days * (row.date_departure - pd.to_datetime('2014-10-31', format='%Y-%m-%d')).days\n",
    "    if noise > 0.5:\n",
    "        if row.TARGET == 1:\n",
    "            row.TARGET = 0\n",
    "        else:\n",
    "            row.TARGET = 1\n",
    "    return row.TARGET\n",
    "prod_df['TARGET'] = prod_df.apply(lambda row: categorise(row), axis=1)"
   ]
  },
  {
   "cell_type": "markdown",
   "id": "7936b366-3ccb-4e84-825c-a10637f02428",
   "metadata": {},
   "source": [
    "## saving processed data"
   ]
  },
  {
   "cell_type": "code",
   "execution_count": null,
   "id": "03064963-b86a-4d85-89d4-ad0e25b95424",
   "metadata": {},
   "outputs": [],
   "source": [
    "path = os.path.join(\"/home/cdsw/data/working/prod_df.pkl\")\n",
    "prod_df.to_pickle(path)"
   ]
  },
  {
   "cell_type": "code",
   "execution_count": null,
   "id": "ee8a3416-902f-465d-a133-7d66ab22583f",
   "metadata": {},
   "outputs": [],
   "source": []
  }
 ],
 "metadata": {
  "kernelspec": {
   "display_name": "Python 3 (ipykernel)",
   "language": "python",
   "name": "python3"
  },
  "language_info": {
   "codemirror_mode": {
    "name": "ipython",
    "version": 3
   },
   "file_extension": ".py",
   "mimetype": "text/x-python",
   "name": "python",
   "nbconvert_exporter": "python",
   "pygments_lexer": "ipython3",
   "version": "3.9.11"
  }
 },
 "nbformat": 4,
 "nbformat_minor": 5
}
