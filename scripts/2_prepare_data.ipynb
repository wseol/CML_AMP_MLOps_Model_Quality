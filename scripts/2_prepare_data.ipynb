{
 "cells": [
  {
   "cell_type": "markdown",
   "id": "a5d46d84-5530-4d8f-8dc5-c5b494e61b6b",
   "metadata": {},
   "source": [
    "# 2. Preparing data for model training"
   ]
  },
  {
   "cell_type": "code",
   "execution_count": 1,
   "id": "bea7393f-6f16-43cc-bb6d-d42e4b0e30aa",
   "metadata": {},
   "outputs": [],
   "source": [
    "import os\n",
    "import numpy as np\n",
    "import pandas as pd\n",
    "import pickle\n",
    "import sys\n",
    "\n",
    "from datetime import datetime\n",
    "from src.utils import random_day_offset, outlier_removal\n",
    "np.random.seed(42)"
   ]
  },
  {
   "cell_type": "code",
   "execution_count": 2,
   "id": "cce0f0ff-fe16-4283-8231-8d17484a6380",
   "metadata": {},
   "outputs": [],
   "source": [
    "import os\n",
    "import shutil\n",
    "import pandas as pd\n",
    "import datetime\n",
    "\n",
    "from impala.util import as_pandas\n",
    "from joblib import dump, load"
   ]
  },
  {
   "cell_type": "code",
   "execution_count": 3,
   "id": "c4545a5d-4c57-440b-87d4-01d9c8a7f9f4",
   "metadata": {},
   "outputs": [],
   "source": [
    "import cml.data_v1 as cmldata"
   ]
  },
  {
   "cell_type": "code",
   "execution_count": 4,
   "id": "684b0301-ac8b-412d-a3bc-a0e6354414d7",
   "metadata": {},
   "outputs": [],
   "source": [
    "CONNECTION_NAME = \"default-hive-aws\"\n",
    "\n",
    "## Alternate Sample Usage to provide different credentials as optional parameters\n",
    "conn = cmldata.get_connection(\n",
    "   CONNECTION_NAME, {\"USERNAME\": \"wseol\", \"PASSWORD\": \"Workload_Password1\"}\n",
    ")\n",
    "\n",
    "## Alternate Sample Usage to get DB API Connection interface\n",
    "db_conn = conn.get_base_connection()\n",
    "\n",
    "## Alternate Sample Usage to get DB API Cursor interface\n",
    "EXAMPLE_SQL_QUERY = \"select * from airlines.flights_wseol\"\n",
    "\n",
    "db_cursor = conn.get_cursor()\n",
    "db_cursor.execute(EXAMPLE_SQL_QUERY)"
   ]
  },
  {
   "cell_type": "code",
   "execution_count": 5,
   "id": "7247180f-2be5-4fd6-b092-1cdfb53be435",
   "metadata": {},
   "outputs": [],
   "source": [
    "df = as_pandas(db_cursor)"
   ]
  },
  {
   "cell_type": "code",
   "execution_count": 6,
   "id": "e6742dca-a10f-489d-a2a5-318bdd8740cd",
   "metadata": {},
   "outputs": [
    {
     "data": {
      "text/plain": [
       "6398914"
      ]
     },
     "execution_count": 6,
     "metadata": {},
     "output_type": "execute_result"
    }
   ],
   "source": [
    "len(df)"
   ]
  },
  {
   "cell_type": "code",
   "execution_count": 7,
   "id": "b7400de3-2834-45cb-9d32-90ad16ecd505",
   "metadata": {},
   "outputs": [],
   "source": [
    "df.columns = df.columns.str.replace('flights_wseol.','')"
   ]
  },
  {
   "cell_type": "code",
   "execution_count": 8,
   "id": "720475e4-2782-4553-8552-42da31f5a150",
   "metadata": {},
   "outputs": [],
   "source": [
    "df.rename(columns = {'cancelled':'TARGET'}, inplace = True)"
   ]
  },
  {
   "cell_type": "code",
   "execution_count": 9,
   "id": "e372d92a-8b95-4ece-89d1-0468635bf471",
   "metadata": {},
   "outputs": [
    {
     "data": {
      "text/html": [
       "<div>\n",
       "<style scoped>\n",
       "    .dataframe tbody tr th:only-of-type {\n",
       "        vertical-align: middle;\n",
       "    }\n",
       "\n",
       "    .dataframe tbody tr th {\n",
       "        vertical-align: top;\n",
       "    }\n",
       "\n",
       "    .dataframe thead th {\n",
       "        text-align: right;\n",
       "    }\n",
       "</style>\n",
       "<table border=\"1\" class=\"dataframe\">\n",
       "  <thead>\n",
       "    <tr style=\"text-align: right;\">\n",
       "      <th></th>\n",
       "      <th>fl_date</th>\n",
       "      <th>uniquecarrier</th>\n",
       "      <th>flightnum</th>\n",
       "      <th>origin</th>\n",
       "      <th>dest</th>\n",
       "      <th>crsdeptime</th>\n",
       "      <th>crsarrtime</th>\n",
       "      <th>TARGET</th>\n",
       "      <th>crselapsedtime</th>\n",
       "      <th>distance</th>\n",
       "      <th>hour</th>\n",
       "      <th>week</th>\n",
       "    </tr>\n",
       "  </thead>\n",
       "  <tbody>\n",
       "    <tr>\n",
       "      <th>0</th>\n",
       "      <td>2010-09-14</td>\n",
       "      <td>US</td>\n",
       "      <td>1628</td>\n",
       "      <td>ROC</td>\n",
       "      <td>PIT</td>\n",
       "      <td>715</td>\n",
       "      <td>820</td>\n",
       "      <td>1</td>\n",
       "      <td>65.0</td>\n",
       "      <td>224.0</td>\n",
       "      <td>7</td>\n",
       "      <td>37.0</td>\n",
       "    </tr>\n",
       "    <tr>\n",
       "      <th>1</th>\n",
       "      <td>2010-09-15</td>\n",
       "      <td>US</td>\n",
       "      <td>1628</td>\n",
       "      <td>ROC</td>\n",
       "      <td>PIT</td>\n",
       "      <td>715</td>\n",
       "      <td>820</td>\n",
       "      <td>1</td>\n",
       "      <td>65.0</td>\n",
       "      <td>224.0</td>\n",
       "      <td>7</td>\n",
       "      <td>37.0</td>\n",
       "    </tr>\n",
       "    <tr>\n",
       "      <th>2</th>\n",
       "      <td>2010-09-16</td>\n",
       "      <td>US</td>\n",
       "      <td>1628</td>\n",
       "      <td>ROC</td>\n",
       "      <td>PIT</td>\n",
       "      <td>715</td>\n",
       "      <td>820</td>\n",
       "      <td>1</td>\n",
       "      <td>65.0</td>\n",
       "      <td>224.0</td>\n",
       "      <td>7</td>\n",
       "      <td>37.0</td>\n",
       "    </tr>\n",
       "  </tbody>\n",
       "</table>\n",
       "</div>"
      ],
      "text/plain": [
       "      fl_date uniquecarrier  flightnum origin dest  crsdeptime  crsarrtime  \\\n",
       "0  2010-09-14            US       1628    ROC  PIT         715         820   \n",
       "1  2010-09-15            US       1628    ROC  PIT         715         820   \n",
       "2  2010-09-16            US       1628    ROC  PIT         715         820   \n",
       "\n",
       "   TARGET  crselapsedtime  distance  hour  week  \n",
       "0       1            65.0     224.0     7  37.0  \n",
       "1       1            65.0     224.0     7  37.0  \n",
       "2       1            65.0     224.0     7  37.0  "
      ]
     },
     "execution_count": 9,
     "metadata": {},
     "output_type": "execute_result"
    }
   ],
   "source": [
    "df.head(3)"
   ]
  },
  {
   "cell_type": "code",
   "execution_count": 10,
   "id": "ac9544a0-0ae3-4c24-90b8-7858af07898b",
   "metadata": {},
   "outputs": [],
   "source": [
    "numerical_cols = [i for i in df.columns if df.dtypes[i]!='object']\n",
    "\n",
    "# select features only from columns\n",
    "features = numerical_cols\n",
    "features.remove('TARGET')"
   ]
  },
  {
   "cell_type": "code",
   "execution_count": 11,
   "id": "8d7bcda9-3592-49ba-ad4c-9dcc33058789",
   "metadata": {},
   "outputs": [],
   "source": [
    "# save features name for the next tasks\n",
    "outputFile = open('/home/cdsw/features.pkl', 'wb')\n",
    "pickle.dump(features, outputFile)\n",
    "outputFile.close()"
   ]
  },
  {
   "cell_type": "code",
   "execution_count": 12,
   "id": "263ae5e2-61f1-4d81-b888-02fbcf3a8782",
   "metadata": {},
   "outputs": [],
   "source": [
    "# # change extraordinary data to avoid exceptions\n",
    "df.replace(np.nan, -999, inplace=True)\n",
    "df.replace(np.inf, 99999, inplace=True)\n",
    "df.replace(-np.inf, -99999, inplace=True)"
   ]
  },
  {
   "cell_type": "code",
   "execution_count": 13,
   "id": "1e74da99-4872-48ff-96f5-146e72efa34d",
   "metadata": {},
   "outputs": [],
   "source": [
    "# select only the columns that using\n",
    "df = df[features+['TARGET']]"
   ]
  },
  {
   "cell_type": "code",
   "execution_count": 14,
   "id": "76809cc7-df3a-444f-8dce-f798ef489d27",
   "metadata": {},
   "outputs": [
    {
     "data": {
      "text/html": [
       "<div>\n",
       "<style scoped>\n",
       "    .dataframe tbody tr th:only-of-type {\n",
       "        vertical-align: middle;\n",
       "    }\n",
       "\n",
       "    .dataframe tbody tr th {\n",
       "        vertical-align: top;\n",
       "    }\n",
       "\n",
       "    .dataframe thead th {\n",
       "        text-align: right;\n",
       "    }\n",
       "</style>\n",
       "<table border=\"1\" class=\"dataframe\">\n",
       "  <thead>\n",
       "    <tr style=\"text-align: right;\">\n",
       "      <th></th>\n",
       "      <th>flightnum</th>\n",
       "      <th>crsdeptime</th>\n",
       "      <th>crsarrtime</th>\n",
       "      <th>crselapsedtime</th>\n",
       "      <th>distance</th>\n",
       "      <th>hour</th>\n",
       "      <th>week</th>\n",
       "      <th>TARGET</th>\n",
       "    </tr>\n",
       "  </thead>\n",
       "  <tbody>\n",
       "    <tr>\n",
       "      <th>0</th>\n",
       "      <td>1628</td>\n",
       "      <td>715</td>\n",
       "      <td>820</td>\n",
       "      <td>65.0</td>\n",
       "      <td>224.0</td>\n",
       "      <td>7</td>\n",
       "      <td>37.0</td>\n",
       "      <td>1</td>\n",
       "    </tr>\n",
       "    <tr>\n",
       "      <th>1</th>\n",
       "      <td>1628</td>\n",
       "      <td>715</td>\n",
       "      <td>820</td>\n",
       "      <td>65.0</td>\n",
       "      <td>224.0</td>\n",
       "      <td>7</td>\n",
       "      <td>37.0</td>\n",
       "      <td>1</td>\n",
       "    </tr>\n",
       "    <tr>\n",
       "      <th>2</th>\n",
       "      <td>1628</td>\n",
       "      <td>715</td>\n",
       "      <td>820</td>\n",
       "      <td>65.0</td>\n",
       "      <td>224.0</td>\n",
       "      <td>7</td>\n",
       "      <td>37.0</td>\n",
       "      <td>1</td>\n",
       "    </tr>\n",
       "  </tbody>\n",
       "</table>\n",
       "</div>"
      ],
      "text/plain": [
       "   flightnum  crsdeptime  crsarrtime  crselapsedtime  distance  hour  week  \\\n",
       "0       1628         715         820            65.0     224.0     7  37.0   \n",
       "1       1628         715         820            65.0     224.0     7  37.0   \n",
       "2       1628         715         820            65.0     224.0     7  37.0   \n",
       "\n",
       "   TARGET  \n",
       "0       1  \n",
       "1       1  \n",
       "2       1  "
      ]
     },
     "execution_count": 14,
     "metadata": {},
     "output_type": "execute_result"
    }
   ],
   "source": [
    "df.head(3)"
   ]
  },
  {
   "cell_type": "markdown",
   "id": "ba049243-f02f-453f-b0c5-4b4c71980888",
   "metadata": {},
   "source": [
    "## Dividing data to simulate data drift"
   ]
  },
  {
   "cell_type": "code",
   "execution_count": 15,
   "id": "dd5cd127-ff1e-48f0-b852-490e9b13694b",
   "metadata": {},
   "outputs": [],
   "source": [
    "df[\"id\"] = np.random.randint(1, 1000000000, size=len(df))"
   ]
  },
  {
   "cell_type": "code",
   "execution_count": 16,
   "id": "e6ecbdc3-57da-4ea2-90a6-6da33431611d",
   "metadata": {},
   "outputs": [],
   "source": [
    "df[\"date_departure\"] = np.random.choice(pd.date_range('2014-05-02', '2015-05-27'), len(df))\n",
    "df[\"date_forecast\"] = df.date_departure.apply(lambda x: random_day_offset(x))"
   ]
  },
  {
   "cell_type": "code",
   "execution_count": 17,
   "id": "c36329e3-8b8c-4829-a844-0af5c90d78d7",
   "metadata": {},
   "outputs": [],
   "source": [
    "# Split out first 6 months of data for training, remaining for simulating a \"production\" scenario\n",
    "min_repay_date = df.date_departure.min()\n",
    "max_repay_date = (\n",
    "    df.date_departure.max().to_period(\"M\").to_timestamp()  # drop the partial last month\n",
    ")"
   ]
  },
  {
   "cell_type": "code",
   "execution_count": 18,
   "id": "449a2cb5-67cb-4f23-b8af-b4fa89b15f2b",
   "metadata": {},
   "outputs": [],
   "source": [
    "train_df = df[\n",
    "    df.date_departure.between(min_repay_date, \"2014-10-31\", inclusive=\"both\")\n",
    "].sort_values(\"date_departure\")"
   ]
  },
  {
   "cell_type": "code",
   "execution_count": 19,
   "id": "44c0371c-e2b2-4673-ae44-88e6edfbf815",
   "metadata": {},
   "outputs": [],
   "source": [
    "prod_df = df[\n",
    "    df.date_departure.between(\"2014-10-31\", max_repay_date, inclusive=False)\n",
    "].sort_values(\"date_departure\")"
   ]
  },
  {
   "cell_type": "markdown",
   "id": "7936b366-3ccb-4e84-825c-a10637f02428",
   "metadata": {},
   "source": [
    "## saving processed data"
   ]
  },
  {
   "cell_type": "code",
   "execution_count": 20,
   "id": "03064963-b86a-4d85-89d4-ad0e25b95424",
   "metadata": {},
   "outputs": [],
   "source": [
    "working_dir = \"/home/cdsw/data/working/\"\n",
    "os.makedirs(working_dir, exist_ok=True)\n",
    "dfs = [(\"train\", train_df), (\"prod\", prod_df)]\n",
    "for name, dataframe in dfs:\n",
    "    path = os.path.join(working_dir, f\"{name}_df.pkl\")\n",
    "    dataframe.to_pickle(path)"
   ]
  },
  {
   "cell_type": "code",
   "execution_count": null,
   "id": "9c534a1e-5f9b-4412-98a6-a82965f23823",
   "metadata": {},
   "outputs": [],
   "source": []
  }
 ],
 "metadata": {
  "kernelspec": {
   "display_name": "Python 3 (ipykernel)",
   "language": "python",
   "name": "python3"
  },
  "language_info": {
   "codemirror_mode": {
    "name": "ipython",
    "version": 3
   },
   "file_extension": ".py",
   "mimetype": "text/x-python",
   "name": "python",
   "nbconvert_exporter": "python",
   "pygments_lexer": "ipython3",
   "version": "3.9.11"
  }
 },
 "nbformat": 4,
 "nbformat_minor": 5
}
